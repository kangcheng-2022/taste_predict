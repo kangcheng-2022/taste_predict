{
 "cells": [
  {
   "cell_type": "code",
   "execution_count": 2,
   "metadata": {},
   "outputs": [
    {
     "name": "stdout",
     "output_type": "stream",
     "text": [
      "87\n"
     ]
    }
   ],
   "source": [
    "# load model\n",
    "# predict\n",
    "from DeepPurpose import CompoundPred as models\n",
    "# load config.pkl\n",
    "# umami /data/songyu/project1/DeepPurpose/my_Demo/my_result/umami/2pubchem/model\n",
    "# biter /data/songyu/project1/DeepPurpose/my_Demo/my_result/bitter/2pubchem/model/\n",
    "# sweet /data/songyu/project1/DeepPurpose/my_Demo/my_result/sweet/11DGL_GCN/model\n",
    "# rdkit\n",
    "#net = models.model_pretrained('/data/songyu/project1/DeepPurpose/my_Demo/my_result/bitter/2pubchem/model/')\n",
    "\n",
    "\n",
    "net = models.model_pretrained('/data/songyu/project1/DeepPurpose/my_Demo/my_result/sweet/12DGL_NeuralFP/model')\n",
    "\n",
    "# 1.list \n",
    "# 2.model\n",
    "# /data/songyu/project1/DeepPurpose/my_Demo/my_Data/Flavor_paper.txt\n",
    "# /data/songyu/project1/DeepPurpose/my_Demo/my_Data/food_confir/all_smiles.txt\n",
    "# with open('/data/songyu/project1/DeepPurpose/my_Demo/my_Data/food_confir/all_smiles.txt') as f:\n",
    "#     lines = f.readlines()\n",
    "with open('/data/songyu/project1/DeepPurpose/my_Demo/my_Code/sweet_12DGL_NFP_norepeat.txt') as f:\n",
    "    lines = f.readlines()\n",
    "\n",
    "smiles_list = [line.strip() for line in lines]\n",
    "#print(smiles_list)\n",
    "print(len(smiles_list))\n",
    "\n"
   ]
  },
  {
   "cell_type": "code",
   "execution_count": 3,
   "metadata": {},
   "outputs": [
    {
     "data": {
      "text/plain": [
       "{'input_dim_drug': 1024,\n",
       " 'input_dim_protein': 8420,\n",
       " 'hidden_dim_drug': 256,\n",
       " 'hidden_dim_protein': 256,\n",
       " 'cls_hidden_dims': [512],\n",
       " 'batch_size': 64,\n",
       " 'train_epoch': 20,\n",
       " 'test_every_X_epoch': 20,\n",
       " 'LR': 0.001,\n",
       " 'drug_encoding': 'DGL_NeuralFP',\n",
       " 'target_encoding': None,\n",
       " 'result_folder': './result/',\n",
       " 'binary': True,\n",
       " 'num_workers': 0,\n",
       " 'cuda_id': None,\n",
       " 'gnn_hid_dim_drug': 64,\n",
       " 'neuralfp_max_degree': 10,\n",
       " 'gnn_activation': <function torch.nn.functional.relu(input: torch.Tensor, inplace: bool = False) -> torch.Tensor>,\n",
       " 'neuralfp_predictor_hid_dim': 128,\n",
       " 'gnn_num_layers': 3,\n",
       " 'neuralfp_predictor_activation': <function torch._VariableFunctionsClass.tanh>,\n",
       " 'decay': 0}"
      ]
     },
     "execution_count": 3,
     "metadata": {},
     "output_type": "execute_result"
    }
   ],
   "source": [
    "net.config"
   ]
  },
  {
   "cell_type": "code",
   "execution_count": 4,
   "metadata": {},
   "outputs": [
    {
     "name": "stdout",
     "output_type": "stream",
     "text": [
      "repurposing...\n",
      "Drug Property Prediction Mode...\n",
      "in total: 87 drugs\n",
      "encoding drug...\n",
      "unique drugs: 87\n",
      "Done.\n",
      "            SMILES  Label    drug_encoding\n",
      "0     O=Cc1ccccc1O     -1     O=Cc1ccccc1O\n",
      "1  CCCCCCOC(=O)CCC     -1  CCCCCCOC(=O)CCC\n",
      "2    CCCCCC(=O)OCC     -1    CCCCCC(=O)OCC\n",
      "3       C=CC(=O)CC     -1       C=CC(=O)CC\n",
      "4        C=CC(O)CC     -1        C=CC(O)CC\n",
      "predicting...\n",
      "---------------\n",
      "Drug Repurposing Result\n",
      "+------+-----------+-------------+-------------+\n",
      "| Rank | Drug Name | Interaction | Probability |\n",
      "+------+-----------+-------------+-------------+\n",
      "+------+-----------+-------------+-------------+"
     ]
    },
    {
     "data": {
      "text/plain": [
       "[0.010223240591585636,\n",
       " 1.5483269635296892e-06,\n",
       " 1.0655718369889655e-06,\n",
       " 0.0010124346008524299,\n",
       " 0.0013215785147622228,\n",
       " 0.09388068318367004,\n",
       " 0.5603787899017334,\n",
       " 1.0259012697133585e-06,\n",
       " 0.003649825695902109,\n",
       " 0.00019675231305882335,\n",
       " 2.1090125301270746e-05,\n",
       " 0.03760901466012001,\n",
       " 2.111222238454502e-05,\n",
       " 6.061729072825983e-05,\n",
       " 0.00021872598154004663,\n",
       " 0.0008451769244857132,\n",
       " 7.040268246782944e-05,\n",
       " 1.4196899428498e-05,\n",
       " 7.547952918685041e-06,\n",
       " 4.9701313400873914e-05,\n",
       " 0.516086995601654,\n",
       " 0.0021104749757796526,\n",
       " 0.04120964556932449,\n",
       " 1.792990224203095e-05,\n",
       " 0.017340268939733505,\n",
       " 5.77528908252134e-07,\n",
       " 0.0033225666265934706,\n",
       " 1.8888731574406847e-06,\n",
       " 4.720645392808365e-06,\n",
       " 0.01403710525482893,\n",
       " 4.620889285433805e-06,\n",
       " 0.0008242810145020485,\n",
       " 0.9341011047363281,\n",
       " 0.0034822572488337755,\n",
       " 0.007841563783586025,\n",
       " 0.02871212549507618,\n",
       " 5.239157417236129e-06,\n",
       " 0.0007028683321550488,\n",
       " 1.909143065859098e-05,\n",
       " 0.00023335868900176138,\n",
       " 3.660171842057025e-06,\n",
       " 0.010215416550636292,\n",
       " 3.677069616969675e-05,\n",
       " 0.0003006341285072267,\n",
       " 0.0024826403241604567,\n",
       " 0.0852024257183075,\n",
       " 0.039180852472782135,\n",
       " 6.061740350560285e-05,\n",
       " 0.040029432624578476,\n",
       " 0.003634394146502018,\n",
       " 3.258855031162966e-06,\n",
       " 2.512039827706758e-06,\n",
       " 1.4433646356337704e-05,\n",
       " 1.1804766472778283e-05,\n",
       " 2.9930941309430636e-05,\n",
       " 0.17098450660705566,\n",
       " 0.003785260021686554,\n",
       " 0.0002728235849644989,\n",
       " 0.007100104819983244,\n",
       " 0.0002093672228511423,\n",
       " 0.007487962953746319,\n",
       " 5.721013707216116e-08,\n",
       " 3.493852273095399e-05,\n",
       " 2.2969484234636184e-06,\n",
       " 0.0003425261820666492,\n",
       " 3.727806324604899e-05,\n",
       " 0.007100091315805912,\n",
       " 6.093397360018571e-07,\n",
       " 5.45199764019344e-05,\n",
       " 5.231834165897453e-08,\n",
       " 0.19553996622562408,\n",
       " 0.00032000403734855354,\n",
       " 3.4826285855160677e-07,\n",
       " 0.14115460216999054,\n",
       " 0.01305870246142149,\n",
       " 0.9983208775520325,\n",
       " 1.866644379333593e-05,\n",
       " 0.00013087382831145078,\n",
       " 6.362440035445616e-05,\n",
       " 2.0846649931627326e-05,\n",
       " 0.02167055755853653,\n",
       " 0.33499887585639954,\n",
       " 0.17098449170589447,\n",
       " 7.577248197776498e-06,\n",
       " 8.389871908320856e-08,\n",
       " 4.011491910205223e-05,\n",
       " 3.1324359497375553e-06]"
      ]
     },
     "execution_count": 4,
     "metadata": {},
     "output_type": "execute_result"
    }
   ],
   "source": [
    "models.repurpose(smiles_list,net)"
   ]
  },
  {
   "cell_type": "code",
   "execution_count": null,
   "metadata": {},
   "outputs": [],
   "source": []
  }
 ],
 "metadata": {
  "kernelspec": {
   "display_name": "DeepPurpose",
   "language": "python",
   "name": "python3"
  },
  "language_info": {
   "codemirror_mode": {
    "name": "ipython",
    "version": 3
   },
   "file_extension": ".py",
   "mimetype": "text/x-python",
   "name": "python",
   "nbconvert_exporter": "python",
   "pygments_lexer": "ipython3",
   "version": "3.7.7"
  },
  "orig_nbformat": 4
 },
 "nbformat": 4,
 "nbformat_minor": 2
}
